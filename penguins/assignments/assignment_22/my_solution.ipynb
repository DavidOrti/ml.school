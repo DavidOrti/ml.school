{
 "cells": [
  {
   "cell_type": "markdown",
   "id": "2fb64a32-cd75-4309-a76b-4bcc01c8cff3",
   "metadata": {
    "tags": []
   },
   "source": [
    "### Assigment 2.2. Data Parallelism: Distributed Preprocessing\n",
    "\n",
    "* <span style=\"padding:4px; background-color: #f2a68a; color: #000;\"><strong>Assignment 2.2</strong></span> For this assignment we want to run a distributed Processing Job across multiple instances to capitalize the `island` column of the a dataset. Your dataset will consist of 10 different files stored in S3. Set up a Processing Job using 2 instances. When specifying the input to the Processing Job, you need to set the `ProcessingInput.s3_data_distribution_type` attribute to `ShardedByS3Key`. By doing this, SageMaker will run a cluster with two instances simultaneously, each with access to half the files.\n",
    "\n",
    "**Steps**:\n",
    "\n",
    "1. Split the data in 10 files\n",
    "2. Creating the processing script\n",
    "3. Create the Processor & ProcessingStep\n",
    "4. Run it\n"
   ]
  },
  {
   "cell_type": "code",
   "execution_count": 10,
   "id": "2cf11c1d-1129-4243-ae63-3a851cf70873",
   "metadata": {
    "tags": []
   },
   "outputs": [
    {
     "name": "stdout",
     "output_type": "stream",
     "text": [
      "sagemaker.config INFO - Not applying SDK defaults from location: /etc/xdg/sagemaker/config.yaml\n",
      "sagemaker.config INFO - Not applying SDK defaults from location: /root/.config/sagemaker/config.yaml\n",
      "sagemaker.config INFO - Not applying SDK defaults from location: /etc/xdg/sagemaker/config.yaml\n",
      "sagemaker.config INFO - Not applying SDK defaults from location: /root/.config/sagemaker/config.yaml\n",
      "Saved /root/ml.school/penguins/assignments/assignment_22/data_part_01.csv\n",
      "Saved /root/ml.school/penguins/assignments/assignment_22/data_part_02.csv\n",
      "Saved /root/ml.school/penguins/assignments/assignment_22/data_part_03.csv\n",
      "Saved /root/ml.school/penguins/assignments/assignment_22/data_part_04.csv\n",
      "Saved /root/ml.school/penguins/assignments/assignment_22/data_part_05.csv\n",
      "Saved /root/ml.school/penguins/assignments/assignment_22/data_part_06.csv\n",
      "Saved /root/ml.school/penguins/assignments/assignment_22/data_part_07.csv\n",
      "Saved /root/ml.school/penguins/assignments/assignment_22/data_part_08.csv\n",
      "Saved /root/ml.school/penguins/assignments/assignment_22/data_part_09.csv\n",
      "Saved /root/ml.school/penguins/assignments/assignment_22/data_part_10.csv\n",
      "sagemaker.config INFO - Not applying SDK defaults from location: /etc/xdg/sagemaker/config.yaml\n",
      "sagemaker.config INFO - Not applying SDK defaults from location: /root/.config/sagemaker/config.yaml\n"
     ]
    }
   ],
   "source": [
    "# Assignment 2.2. - Distributed Processing Job\n",
    "\n",
    "import os\n",
    "import sys\n",
    "import tempfile\n",
    "\n",
    "from io import StringIO\n",
    "from pathlib import Path\n",
    "\n",
    "import pandas as pd\n",
    "import boto3\n",
    "import sagemaker\n",
    "from sagemaker.s3 import S3Uploader\n",
    "from sagemaker.processing import ProcessingInput, ProcessingOutput\n",
    "from sagemaker.sklearn.processing import SKLearnProcessor\n",
    "from sagemaker.workflow.parameters import ParameterString\n",
    "from sagemaker.workflow.steps import ProcessingStep\n",
    "from sagemaker.workflow.steps import CacheConfig\n",
    "from sagemaker.workflow.pipeline import Pipeline\n",
    "from sagemaker.workflow.pipeline_context import PipelineSession\n",
    "from sagemaker.workflow.pipeline_definition_config import PipelineDefinitionConfig\n",
    "\n",
    "\n",
    "BUCKET = \"mlschool-davidorti\"\n",
    "\n",
    "pipeline_session = PipelineSession(default_bucket=BUCKET)\n",
    "role = sagemaker.get_execution_role()\n",
    "pipeline_definition_config = PipelineDefinitionConfig(use_custom_job_prefix=True)\n",
    "\n",
    "S3_LOCATION = f\"s3://{BUCKET}/penguins/assignments/assignment_22\"\n",
    "BASE_DIRECTORY = Path().resolve()\n",
    "LOCAL_INPUT_DATA_FILEPATH = BASE_DIRECTORY.parent.parent / \"data.csv\"\n",
    "\n",
    "\n",
    "# Split data in 10 files\n",
    "def split_csv(input_filepath, output_directory):\n",
    "    data = pd.read_csv(input_filepath)\n",
    "    output_directory.mkdir(parents=True, exist_ok=True)\n",
    "    \n",
    "    i = 0\n",
    "    while i < len(data):\n",
    "        subset = data[i:i+35]\n",
    "        subset.to_csv(f\"{output_directory}/data_part_{i//35 + 1 :02}.csv\", index=False)\n",
    "        print(f\"Saved {output_directory}/data_part_{i//35 + 1 :02}.csv\")\n",
    "        i += 35\n",
    "\n",
    "\n",
    "if __name__ == \"__main__\":\n",
    "    split_csv(LOCAL_INPUT_DATA_FILEPATH, BASE_DIRECTORY)\n",
    "    S3Uploader.upload(\n",
    "        local_path=BASE_DIRECTORY,\n",
    "        desired_s3_uri=S3_LOCATION\n",
    "    )"
   ]
  },
  {
   "cell_type": "code",
   "execution_count": 67,
   "id": "fc58597e-5d58-4d1d-9583-24652f7e8bc8",
   "metadata": {
    "tags": []
   },
   "outputs": [
    {
     "name": "stdout",
     "output_type": "stream",
     "text": [
      "penguins/assignments/assignment_22/./data_part_01.csv\n",
      "penguins/assignments/assignment_22/./data_part_02.csv\n",
      "penguins/assignments/assignment_22/./data_part_03.csv\n",
      "penguins/assignments/assignment_22/./data_part_04.csv\n",
      "penguins/assignments/assignment_22/./data_part_05.csv\n",
      "penguins/assignments/assignment_22/./data_part_06.csv\n",
      "penguins/assignments/assignment_22/./data_part_07.csv\n",
      "penguins/assignments/assignment_22/./data_part_08.csv\n",
      "penguins/assignments/assignment_22/./data_part_09.csv\n",
      "penguins/assignments/assignment_22/./data_part_10.csv\n"
     ]
    }
   ],
   "source": [
    "# Check that contents are indeed uploaded to S3\n",
    "s3 = boto3.client(\"s3\")\n",
    "response = s3.list_objects_v2(\n",
    "    Bucket=BUCKET,\n",
    "    Prefix=\"penguins/assignments/assignment_22/\"\n",
    ")\n",
    "for obj in response.get(\"Contents\", []):\n",
    "    if obj[\"Key\"].endswith(\".csv\") and \"code\" not in obj[\"Key\"] and \"output\" not in obj[\"Key\"]:\n",
    "        print(obj[\"Key\"])"
   ]
  },
  {
   "cell_type": "code",
   "execution_count": 68,
   "id": "66378c20-cc5a-461e-b2c0-7a2d110e0261",
   "metadata": {
    "tags": []
   },
   "outputs": [],
   "source": [
    "# Step 2 - processing script\n",
    "\n",
    "ASSIGNMENT_CODE_DIR = BASE_DIRECTORY / \"code\"\n",
    "ASSIGNMENT_CODE_DIR.mkdir(parents=True, exist_ok=True)\n",
    "\n",
    "if str(ASSIGNMENT_CODE_DIR) not in sys.path:\n",
    "    sys.path.append(f\"{ASSIGNMENT_CODE_DIR}\")"
   ]
  },
  {
   "cell_type": "code",
   "execution_count": 70,
   "id": "27958f26-5373-4f06-aaef-f8ccaad7b1b4",
   "metadata": {
    "tags": []
   },
   "outputs": [
    {
     "name": "stdout",
     "output_type": "stream",
     "text": [
      "Overwriting /root/ml.school/penguins/assignments/assignment_22/code/preprocessor_assignment_22.py\n"
     ]
    }
   ],
   "source": [
    "%%writefile {ASSIGNMENT_CODE_DIR}/preprocessor_assignment_22.py\n",
    "\n",
    "import pandas as pd\n",
    "from pathlib import Path\n",
    "\n",
    "\n",
    "def capitalize_island(dataframe):\n",
    "    \"\"\"Island column values to uppercase\"\"\"\n",
    "    dataframe[\"island\"] = dataframe[\"island\"].str.upper()  # so it's different from default\n",
    "    return dataframe\n",
    "\n",
    "\n",
    "def preprocess(input_filepath, output_filepath):\n",
    "    \"\"\"Process a single CSV file and save to the specified output filepath\"\"\"\n",
    "    data = pd.read_csv(input_filepath)\n",
    "    processed_data = capitalize_island(data)\n",
    "    processed_data.to_csv(output_filepath, index=False)\n",
    "    print(f\"Processed {input_filepath} and saved to {output_filepath}\")\n",
    "\n",
    "\n",
    "def process_all_files(input_dir, output_dir):\n",
    "    \"\"\"Process all CSV files in the input directory and save to the output directory\"\"\"\n",
    "    input_dir_path = Path(input_dir)\n",
    "    for filename in input_dir_path.iterdir():\n",
    "        if filename.suffix == '.csv':  # only process .csv files\n",
    "            input_filepath = input_dir_path / filename.name\n",
    "            output_filepath = Path(output_dir) / filename.name\n",
    "            preprocess(input_filepath, output_filepath)\n",
    "\n",
    "\n",
    "if __name__ == \"__main__\":\n",
    "\n",
    "    # default paths for SageMaker Processing\n",
    "    BASE_DIRECTORY = Path(\"/opt/ml/processing\")\n",
    "    DATA_DIRECTORY = BASE_DIRECTORY / \"input\"\n",
    "    OUTPUT_DIRECTORY = BASE_DIRECTORY / \"output\"\n",
    "    \n",
    "    process_all_files(DATA_DIRECTORY, OUTPUT_DIRECTORY)"
   ]
  },
  {
   "cell_type": "code",
   "execution_count": 15,
   "id": "434a2f0e-1f4a-4dfc-87fe-ebd0af1fc364",
   "metadata": {
    "tags": []
   },
   "outputs": [
    {
     "name": "stdout",
     "output_type": "stream",
     "text": [
      "preprocessor_assignment_22.py\n"
     ]
    }
   ],
   "source": [
    "!ls code"
   ]
  },
  {
   "cell_type": "code",
   "execution_count": 71,
   "id": "4eba1762-faea-4e83-8c08-a980d727fadd",
   "metadata": {
    "tags": []
   },
   "outputs": [
    {
     "name": "stdout",
     "output_type": "stream",
     "text": [
      "Processed /root/ml.school/penguins/assignments/assignment_22/data_part_07.csv and saved to /tmp/tmpqnxb170d/data_part_07.csv\n",
      "Processed /root/ml.school/penguins/assignments/assignment_22/data_part_03.csv and saved to /tmp/tmpqnxb170d/data_part_03.csv\n",
      "Processed /root/ml.school/penguins/assignments/assignment_22/data_part_09.csv and saved to /tmp/tmpqnxb170d/data_part_09.csv\n",
      "Processed /root/ml.school/penguins/assignments/assignment_22/data_part_10.csv and saved to /tmp/tmpqnxb170d/data_part_10.csv\n",
      "Processed /root/ml.school/penguins/assignments/assignment_22/data_part_01.csv and saved to /tmp/tmpqnxb170d/data_part_01.csv\n",
      "Processed /root/ml.school/penguins/assignments/assignment_22/data_part_05.csv and saved to /tmp/tmpqnxb170d/data_part_05.csv\n",
      "Processed /root/ml.school/penguins/assignments/assignment_22/data_part_08.csv and saved to /tmp/tmpqnxb170d/data_part_08.csv\n",
      "Processed /root/ml.school/penguins/assignments/assignment_22/data_part_04.csv and saved to /tmp/tmpqnxb170d/data_part_04.csv\n",
      "Processed /root/ml.school/penguins/assignments/assignment_22/data_part_02.csv and saved to /tmp/tmpqnxb170d/data_part_02.csv\n",
      "Processed /root/ml.school/penguins/assignments/assignment_22/data_part_06.csv and saved to /tmp/tmpqnxb170d/data_part_06.csv\n",
      "\n",
      "Folders: ['data_part_07.csv', 'data_part_03.csv', 'data_part_09.csv', 'data_part_10.csv', 'data_part_01.csv', 'data_part_05.csv', 'data_part_08.csv', 'data_part_04.csv', 'data_part_02.csv', 'data_part_06.csv']\n",
      "\n",
      "24    BISCOE\n",
      "25    BISCOE\n",
      "26    BISCOE\n",
      "27    BISCOE\n",
      "28    BISCOE\n",
      "Name: island, dtype: object\n"
     ]
    }
   ],
   "source": [
    "# test the script\n",
    "from preprocessor_assignment_22 import preprocess, process_all_files\n",
    "\n",
    "with tempfile.TemporaryDirectory() as directory:\n",
    "    process_all_files(\n",
    "        input_dir=BASE_DIRECTORY,\n",
    "        output_dir=directory\n",
    "    )\n",
    "    \n",
    "    print(f\"\\nFolders: {os.listdir(directory)}\\n\")\n",
    "    \n",
    "    # check the last file\n",
    "    data = pd.read_csv(os.path.join(directory, 'data_part_10.csv'))\n",
    "    print(data.island[-5:])"
   ]
  },
  {
   "cell_type": "code",
   "execution_count": 84,
   "id": "48f08cb2-37b3-4a09-bf6d-da510dbbbc4e",
   "metadata": {
    "tags": []
   },
   "outputs": [
    {
     "name": "stderr",
     "output_type": "stream",
     "text": [
      "INFO:sagemaker.image_uris:Defaulting to only available Python version: py3\n"
     ]
    },
    {
     "data": {
      "text/plain": [
       "{'PipelineArn': 'arn:aws:sagemaker:eu-west-1:833724363691:pipeline/assignment-22-pipeline',\n",
       " 'ResponseMetadata': {'RequestId': '459e951c-fee3-48aa-b5a1-b8be64eb8a0d',\n",
       "  'HTTPStatusCode': 200,\n",
       "  'HTTPHeaders': {'x-amzn-requestid': '459e951c-fee3-48aa-b5a1-b8be64eb8a0d',\n",
       "   'content-type': 'application/x-amz-json-1.1',\n",
       "   'content-length': '90',\n",
       "   'date': 'Tue, 26 Sep 2023 17:42:48 GMT'},\n",
       "  'RetryAttempts': 0}}"
      ]
     },
     "execution_count": 84,
     "metadata": {},
     "output_type": "execute_result"
    }
   ],
   "source": [
    "# Step 3 - Define parameters, Processors, Processing Step and Pipeline\n",
    "\n",
    "# parameter definition\n",
    "data_location = ParameterString(\n",
    "    name=\"data_location\",\n",
    "    default_value=f\"{S3_LOCATION}\"\n",
    ")\n",
    "preprocessed_data_location = ParameterString(\n",
    "    name=\"preprocessed_data_location\",\n",
    "    default_value=f\"{S3_LOCATION}/output\"\n",
    ")\n",
    "\n",
    "cache_config = CacheConfig(\n",
    "    enable_caching=True, \n",
    "    expire_after=\"15d\"\n",
    ")\n",
    "\n",
    "# processor\n",
    "processor = SKLearnProcessor(\n",
    "    base_job_name=\"penguins-assignment_22-capitalize\",\n",
    "    framework_version=\"0.23-1\",\n",
    "    instance_type=\"ml.t3.medium\",\n",
    "    instance_count=2,\n",
    "    role=role,\n",
    "    sagemaker_session=pipeline_session\n",
    ")\n",
    "\n",
    "# inputs & outputs\n",
    "inputs = [\n",
    "    ProcessingInput(\n",
    "        source=data_location,  # parameterized\n",
    "        destination=f\"/opt/ml/processing/input\",\n",
    "        s3_data_distribution_type=\"ShardedByS3Key\"\n",
    "    )\n",
    "]\n",
    "outputs = [\n",
    "    ProcessingOutput(\n",
    "        output_name=f\"output\",\n",
    "        source=f\"/opt/ml/processing/output\",\n",
    "        destination=preprocessed_data_location # parameterized\n",
    "    )\n",
    "]\n",
    "\n",
    "# processing step\n",
    "preprocess_data_step = ProcessingStep(\n",
    "    name=\"assignment-22-preprocess-data\",\n",
    "    step_args=processor.run(\n",
    "        code=f\"{ASSIGNMENT_CODE_DIR}/preprocessor_assignment_22.py\",\n",
    "        inputs=inputs,\n",
    "        outputs=outputs\n",
    "    ),\n",
    "    cache_config=cache_config\n",
    ")\n",
    "\n",
    "# pipeline\n",
    "assignment_22_pipeline = Pipeline(\n",
    "    name=\"assignment-22-pipeline\",\n",
    "    parameters=[data_location, preprocessed_data_location],\n",
    "    steps=[preprocess_data_step],\n",
    "    pipeline_definition_config=pipeline_definition_config,\n",
    "    sagemaker_session=pipeline_session\n",
    ")\n",
    "\n",
    "assignment_22_pipeline.upsert(role_arn=role)"
   ]
  },
  {
   "cell_type": "code",
   "execution_count": 85,
   "id": "6a74dc42-c2ea-459f-bca9-98e3209e4494",
   "metadata": {
    "tags": []
   },
   "outputs": [
    {
     "data": {
      "text/plain": [
       "_PipelineExecution(arn='arn:aws:sagemaker:eu-west-1:833724363691:pipeline/assignment-22-pipeline/execution/06pk4e9mmil1', sagemaker_session=<sagemaker.workflow.pipeline_context.PipelineSession object at 0x7fa96c8060d0>)"
      ]
     },
     "execution_count": 85,
     "metadata": {},
     "output_type": "execute_result"
    }
   ],
   "source": [
    "# run the pipeline\n",
    "#assignment_22_pipeline.start()"
   ]
  },
  {
   "cell_type": "code",
   "execution_count": 72,
   "id": "34b1cefd-e343-4e12-a4db-e102bff8a2b5",
   "metadata": {
    "tags": []
   },
   "outputs": [
    {
     "name": "stdout",
     "output_type": "stream",
     "text": [
      "penguins/assignments/assignment_22/output/data_part_01.csv\n",
      "penguins/assignments/assignment_22/output/data_part_02.csv\n",
      "penguins/assignments/assignment_22/output/data_part_03.csv\n",
      "penguins/assignments/assignment_22/output/data_part_04.csv\n",
      "penguins/assignments/assignment_22/output/data_part_05.csv\n",
      "penguins/assignments/assignment_22/output/data_part_06.csv\n",
      "penguins/assignments/assignment_22/output/data_part_07.csv\n",
      "penguins/assignments/assignment_22/output/data_part_08.csv\n",
      "penguins/assignments/assignment_22/output/data_part_09.csv\n",
      "penguins/assignments/assignment_22/output/data_part_10.csv\n"
     ]
    },
    {
     "data": {
      "text/html": [
       "<div>\n",
       "<style scoped>\n",
       "    .dataframe tbody tr th:only-of-type {\n",
       "        vertical-align: middle;\n",
       "    }\n",
       "\n",
       "    .dataframe tbody tr th {\n",
       "        vertical-align: top;\n",
       "    }\n",
       "\n",
       "    .dataframe thead th {\n",
       "        text-align: right;\n",
       "    }\n",
       "</style>\n",
       "<table border=\"1\" class=\"dataframe\">\n",
       "  <thead>\n",
       "    <tr style=\"text-align: right;\">\n",
       "      <th></th>\n",
       "      <th>species</th>\n",
       "      <th>island</th>\n",
       "      <th>culmen_length_mm</th>\n",
       "      <th>culmen_depth_mm</th>\n",
       "      <th>flipper_length_mm</th>\n",
       "      <th>body_mass_g</th>\n",
       "      <th>sex</th>\n",
       "    </tr>\n",
       "  </thead>\n",
       "  <tbody>\n",
       "    <tr>\n",
       "      <th>27</th>\n",
       "      <td>Gentoo</td>\n",
       "      <td>BISCOE</td>\n",
       "      <td>45.2</td>\n",
       "      <td>14.8</td>\n",
       "      <td>212.0</td>\n",
       "      <td>5200.0</td>\n",
       "      <td>FEMALE</td>\n",
       "    </tr>\n",
       "    <tr>\n",
       "      <th>28</th>\n",
       "      <td>Gentoo</td>\n",
       "      <td>BISCOE</td>\n",
       "      <td>49.9</td>\n",
       "      <td>16.1</td>\n",
       "      <td>213.0</td>\n",
       "      <td>5400.0</td>\n",
       "      <td>MALE</td>\n",
       "    </tr>\n",
       "  </tbody>\n",
       "</table>\n",
       "</div>"
      ],
      "text/plain": [
       "   species  island  culmen_length_mm  culmen_depth_mm  flipper_length_mm  \\\n",
       "27  Gentoo  BISCOE              45.2             14.8              212.0   \n",
       "28  Gentoo  BISCOE              49.9             16.1              213.0   \n",
       "\n",
       "    body_mass_g     sex  \n",
       "27       5200.0  FEMALE  \n",
       "28       5400.0    MALE  "
      ]
     },
     "execution_count": 72,
     "metadata": {},
     "output_type": "execute_result"
    }
   ],
   "source": [
    "# Check that outputs are indeed uploaded to S3\n",
    "s3 = boto3.client(\"s3\")\n",
    "contents = s3.list_objects_v2(Bucket=BUCKET, Prefix=\"penguins/assignments/assignment_22/output\").get(\"Contents\", [])\n",
    "for obj in contents:\n",
    "    print(obj[\"Key\"])\n",
    "\n",
    "# check how the last one looks\n",
    "obj = s3.get_object(Bucket=BUCKET, Key=obj[\"Key\"])\n",
    "csv_data = obj['Body'].read().decode('utf-8')\n",
    "data = pd.read_csv(StringIO(csv_data))\n",
    "\n",
    "data.tail(2)"
   ]
  }
 ],
 "metadata": {
  "availableInstances": [
   {
    "_defaultOrder": 0,
    "_isFastLaunch": true,
    "category": "General purpose",
    "gpuNum": 0,
    "hideHardwareSpecs": false,
    "memoryGiB": 4,
    "name": "ml.t3.medium",
    "vcpuNum": 2
   },
   {
    "_defaultOrder": 1,
    "_isFastLaunch": false,
    "category": "General purpose",
    "gpuNum": 0,
    "hideHardwareSpecs": false,
    "memoryGiB": 8,
    "name": "ml.t3.large",
    "vcpuNum": 2
   },
   {
    "_defaultOrder": 2,
    "_isFastLaunch": false,
    "category": "General purpose",
    "gpuNum": 0,
    "hideHardwareSpecs": false,
    "memoryGiB": 16,
    "name": "ml.t3.xlarge",
    "vcpuNum": 4
   },
   {
    "_defaultOrder": 3,
    "_isFastLaunch": false,
    "category": "General purpose",
    "gpuNum": 0,
    "hideHardwareSpecs": false,
    "memoryGiB": 32,
    "name": "ml.t3.2xlarge",
    "vcpuNum": 8
   },
   {
    "_defaultOrder": 4,
    "_isFastLaunch": true,
    "category": "General purpose",
    "gpuNum": 0,
    "hideHardwareSpecs": false,
    "memoryGiB": 8,
    "name": "ml.m5.large",
    "vcpuNum": 2
   },
   {
    "_defaultOrder": 5,
    "_isFastLaunch": false,
    "category": "General purpose",
    "gpuNum": 0,
    "hideHardwareSpecs": false,
    "memoryGiB": 16,
    "name": "ml.m5.xlarge",
    "vcpuNum": 4
   },
   {
    "_defaultOrder": 6,
    "_isFastLaunch": false,
    "category": "General purpose",
    "gpuNum": 0,
    "hideHardwareSpecs": false,
    "memoryGiB": 32,
    "name": "ml.m5.2xlarge",
    "vcpuNum": 8
   },
   {
    "_defaultOrder": 7,
    "_isFastLaunch": false,
    "category": "General purpose",
    "gpuNum": 0,
    "hideHardwareSpecs": false,
    "memoryGiB": 64,
    "name": "ml.m5.4xlarge",
    "vcpuNum": 16
   },
   {
    "_defaultOrder": 8,
    "_isFastLaunch": false,
    "category": "General purpose",
    "gpuNum": 0,
    "hideHardwareSpecs": false,
    "memoryGiB": 128,
    "name": "ml.m5.8xlarge",
    "vcpuNum": 32
   },
   {
    "_defaultOrder": 9,
    "_isFastLaunch": false,
    "category": "General purpose",
    "gpuNum": 0,
    "hideHardwareSpecs": false,
    "memoryGiB": 192,
    "name": "ml.m5.12xlarge",
    "vcpuNum": 48
   },
   {
    "_defaultOrder": 10,
    "_isFastLaunch": false,
    "category": "General purpose",
    "gpuNum": 0,
    "hideHardwareSpecs": false,
    "memoryGiB": 256,
    "name": "ml.m5.16xlarge",
    "vcpuNum": 64
   },
   {
    "_defaultOrder": 11,
    "_isFastLaunch": false,
    "category": "General purpose",
    "gpuNum": 0,
    "hideHardwareSpecs": false,
    "memoryGiB": 384,
    "name": "ml.m5.24xlarge",
    "vcpuNum": 96
   },
   {
    "_defaultOrder": 12,
    "_isFastLaunch": false,
    "category": "General purpose",
    "gpuNum": 0,
    "hideHardwareSpecs": false,
    "memoryGiB": 8,
    "name": "ml.m5d.large",
    "vcpuNum": 2
   },
   {
    "_defaultOrder": 13,
    "_isFastLaunch": false,
    "category": "General purpose",
    "gpuNum": 0,
    "hideHardwareSpecs": false,
    "memoryGiB": 16,
    "name": "ml.m5d.xlarge",
    "vcpuNum": 4
   },
   {
    "_defaultOrder": 14,
    "_isFastLaunch": false,
    "category": "General purpose",
    "gpuNum": 0,
    "hideHardwareSpecs": false,
    "memoryGiB": 32,
    "name": "ml.m5d.2xlarge",
    "vcpuNum": 8
   },
   {
    "_defaultOrder": 15,
    "_isFastLaunch": false,
    "category": "General purpose",
    "gpuNum": 0,
    "hideHardwareSpecs": false,
    "memoryGiB": 64,
    "name": "ml.m5d.4xlarge",
    "vcpuNum": 16
   },
   {
    "_defaultOrder": 16,
    "_isFastLaunch": false,
    "category": "General purpose",
    "gpuNum": 0,
    "hideHardwareSpecs": false,
    "memoryGiB": 128,
    "name": "ml.m5d.8xlarge",
    "vcpuNum": 32
   },
   {
    "_defaultOrder": 17,
    "_isFastLaunch": false,
    "category": "General purpose",
    "gpuNum": 0,
    "hideHardwareSpecs": false,
    "memoryGiB": 192,
    "name": "ml.m5d.12xlarge",
    "vcpuNum": 48
   },
   {
    "_defaultOrder": 18,
    "_isFastLaunch": false,
    "category": "General purpose",
    "gpuNum": 0,
    "hideHardwareSpecs": false,
    "memoryGiB": 256,
    "name": "ml.m5d.16xlarge",
    "vcpuNum": 64
   },
   {
    "_defaultOrder": 19,
    "_isFastLaunch": false,
    "category": "General purpose",
    "gpuNum": 0,
    "hideHardwareSpecs": false,
    "memoryGiB": 384,
    "name": "ml.m5d.24xlarge",
    "vcpuNum": 96
   },
   {
    "_defaultOrder": 20,
    "_isFastLaunch": false,
    "category": "General purpose",
    "gpuNum": 0,
    "hideHardwareSpecs": true,
    "memoryGiB": 0,
    "name": "ml.geospatial.interactive",
    "supportedImageNames": [
     "sagemaker-geospatial-v1-0"
    ],
    "vcpuNum": 0
   },
   {
    "_defaultOrder": 21,
    "_isFastLaunch": true,
    "category": "Compute optimized",
    "gpuNum": 0,
    "hideHardwareSpecs": false,
    "memoryGiB": 4,
    "name": "ml.c5.large",
    "vcpuNum": 2
   },
   {
    "_defaultOrder": 22,
    "_isFastLaunch": false,
    "category": "Compute optimized",
    "gpuNum": 0,
    "hideHardwareSpecs": false,
    "memoryGiB": 8,
    "name": "ml.c5.xlarge",
    "vcpuNum": 4
   },
   {
    "_defaultOrder": 23,
    "_isFastLaunch": false,
    "category": "Compute optimized",
    "gpuNum": 0,
    "hideHardwareSpecs": false,
    "memoryGiB": 16,
    "name": "ml.c5.2xlarge",
    "vcpuNum": 8
   },
   {
    "_defaultOrder": 24,
    "_isFastLaunch": false,
    "category": "Compute optimized",
    "gpuNum": 0,
    "hideHardwareSpecs": false,
    "memoryGiB": 32,
    "name": "ml.c5.4xlarge",
    "vcpuNum": 16
   },
   {
    "_defaultOrder": 25,
    "_isFastLaunch": false,
    "category": "Compute optimized",
    "gpuNum": 0,
    "hideHardwareSpecs": false,
    "memoryGiB": 72,
    "name": "ml.c5.9xlarge",
    "vcpuNum": 36
   },
   {
    "_defaultOrder": 26,
    "_isFastLaunch": false,
    "category": "Compute optimized",
    "gpuNum": 0,
    "hideHardwareSpecs": false,
    "memoryGiB": 96,
    "name": "ml.c5.12xlarge",
    "vcpuNum": 48
   },
   {
    "_defaultOrder": 27,
    "_isFastLaunch": false,
    "category": "Compute optimized",
    "gpuNum": 0,
    "hideHardwareSpecs": false,
    "memoryGiB": 144,
    "name": "ml.c5.18xlarge",
    "vcpuNum": 72
   },
   {
    "_defaultOrder": 28,
    "_isFastLaunch": false,
    "category": "Compute optimized",
    "gpuNum": 0,
    "hideHardwareSpecs": false,
    "memoryGiB": 192,
    "name": "ml.c5.24xlarge",
    "vcpuNum": 96
   },
   {
    "_defaultOrder": 29,
    "_isFastLaunch": true,
    "category": "Accelerated computing",
    "gpuNum": 1,
    "hideHardwareSpecs": false,
    "memoryGiB": 16,
    "name": "ml.g4dn.xlarge",
    "vcpuNum": 4
   },
   {
    "_defaultOrder": 30,
    "_isFastLaunch": false,
    "category": "Accelerated computing",
    "gpuNum": 1,
    "hideHardwareSpecs": false,
    "memoryGiB": 32,
    "name": "ml.g4dn.2xlarge",
    "vcpuNum": 8
   },
   {
    "_defaultOrder": 31,
    "_isFastLaunch": false,
    "category": "Accelerated computing",
    "gpuNum": 1,
    "hideHardwareSpecs": false,
    "memoryGiB": 64,
    "name": "ml.g4dn.4xlarge",
    "vcpuNum": 16
   },
   {
    "_defaultOrder": 32,
    "_isFastLaunch": false,
    "category": "Accelerated computing",
    "gpuNum": 1,
    "hideHardwareSpecs": false,
    "memoryGiB": 128,
    "name": "ml.g4dn.8xlarge",
    "vcpuNum": 32
   },
   {
    "_defaultOrder": 33,
    "_isFastLaunch": false,
    "category": "Accelerated computing",
    "gpuNum": 4,
    "hideHardwareSpecs": false,
    "memoryGiB": 192,
    "name": "ml.g4dn.12xlarge",
    "vcpuNum": 48
   },
   {
    "_defaultOrder": 34,
    "_isFastLaunch": false,
    "category": "Accelerated computing",
    "gpuNum": 1,
    "hideHardwareSpecs": false,
    "memoryGiB": 256,
    "name": "ml.g4dn.16xlarge",
    "vcpuNum": 64
   },
   {
    "_defaultOrder": 35,
    "_isFastLaunch": false,
    "category": "Accelerated computing",
    "gpuNum": 1,
    "hideHardwareSpecs": false,
    "memoryGiB": 61,
    "name": "ml.p3.2xlarge",
    "vcpuNum": 8
   },
   {
    "_defaultOrder": 36,
    "_isFastLaunch": false,
    "category": "Accelerated computing",
    "gpuNum": 4,
    "hideHardwareSpecs": false,
    "memoryGiB": 244,
    "name": "ml.p3.8xlarge",
    "vcpuNum": 32
   },
   {
    "_defaultOrder": 37,
    "_isFastLaunch": false,
    "category": "Accelerated computing",
    "gpuNum": 8,
    "hideHardwareSpecs": false,
    "memoryGiB": 488,
    "name": "ml.p3.16xlarge",
    "vcpuNum": 64
   },
   {
    "_defaultOrder": 38,
    "_isFastLaunch": false,
    "category": "Accelerated computing",
    "gpuNum": 8,
    "hideHardwareSpecs": false,
    "memoryGiB": 768,
    "name": "ml.p3dn.24xlarge",
    "vcpuNum": 96
   },
   {
    "_defaultOrder": 39,
    "_isFastLaunch": false,
    "category": "Memory Optimized",
    "gpuNum": 0,
    "hideHardwareSpecs": false,
    "memoryGiB": 16,
    "name": "ml.r5.large",
    "vcpuNum": 2
   },
   {
    "_defaultOrder": 40,
    "_isFastLaunch": false,
    "category": "Memory Optimized",
    "gpuNum": 0,
    "hideHardwareSpecs": false,
    "memoryGiB": 32,
    "name": "ml.r5.xlarge",
    "vcpuNum": 4
   },
   {
    "_defaultOrder": 41,
    "_isFastLaunch": false,
    "category": "Memory Optimized",
    "gpuNum": 0,
    "hideHardwareSpecs": false,
    "memoryGiB": 64,
    "name": "ml.r5.2xlarge",
    "vcpuNum": 8
   },
   {
    "_defaultOrder": 42,
    "_isFastLaunch": false,
    "category": "Memory Optimized",
    "gpuNum": 0,
    "hideHardwareSpecs": false,
    "memoryGiB": 128,
    "name": "ml.r5.4xlarge",
    "vcpuNum": 16
   },
   {
    "_defaultOrder": 43,
    "_isFastLaunch": false,
    "category": "Memory Optimized",
    "gpuNum": 0,
    "hideHardwareSpecs": false,
    "memoryGiB": 256,
    "name": "ml.r5.8xlarge",
    "vcpuNum": 32
   },
   {
    "_defaultOrder": 44,
    "_isFastLaunch": false,
    "category": "Memory Optimized",
    "gpuNum": 0,
    "hideHardwareSpecs": false,
    "memoryGiB": 384,
    "name": "ml.r5.12xlarge",
    "vcpuNum": 48
   },
   {
    "_defaultOrder": 45,
    "_isFastLaunch": false,
    "category": "Memory Optimized",
    "gpuNum": 0,
    "hideHardwareSpecs": false,
    "memoryGiB": 512,
    "name": "ml.r5.16xlarge",
    "vcpuNum": 64
   },
   {
    "_defaultOrder": 46,
    "_isFastLaunch": false,
    "category": "Memory Optimized",
    "gpuNum": 0,
    "hideHardwareSpecs": false,
    "memoryGiB": 768,
    "name": "ml.r5.24xlarge",
    "vcpuNum": 96
   },
   {
    "_defaultOrder": 47,
    "_isFastLaunch": false,
    "category": "Accelerated computing",
    "gpuNum": 1,
    "hideHardwareSpecs": false,
    "memoryGiB": 16,
    "name": "ml.g5.xlarge",
    "vcpuNum": 4
   },
   {
    "_defaultOrder": 48,
    "_isFastLaunch": false,
    "category": "Accelerated computing",
    "gpuNum": 1,
    "hideHardwareSpecs": false,
    "memoryGiB": 32,
    "name": "ml.g5.2xlarge",
    "vcpuNum": 8
   },
   {
    "_defaultOrder": 49,
    "_isFastLaunch": false,
    "category": "Accelerated computing",
    "gpuNum": 1,
    "hideHardwareSpecs": false,
    "memoryGiB": 64,
    "name": "ml.g5.4xlarge",
    "vcpuNum": 16
   },
   {
    "_defaultOrder": 50,
    "_isFastLaunch": false,
    "category": "Accelerated computing",
    "gpuNum": 1,
    "hideHardwareSpecs": false,
    "memoryGiB": 128,
    "name": "ml.g5.8xlarge",
    "vcpuNum": 32
   },
   {
    "_defaultOrder": 51,
    "_isFastLaunch": false,
    "category": "Accelerated computing",
    "gpuNum": 1,
    "hideHardwareSpecs": false,
    "memoryGiB": 256,
    "name": "ml.g5.16xlarge",
    "vcpuNum": 64
   },
   {
    "_defaultOrder": 52,
    "_isFastLaunch": false,
    "category": "Accelerated computing",
    "gpuNum": 4,
    "hideHardwareSpecs": false,
    "memoryGiB": 192,
    "name": "ml.g5.12xlarge",
    "vcpuNum": 48
   },
   {
    "_defaultOrder": 53,
    "_isFastLaunch": false,
    "category": "Accelerated computing",
    "gpuNum": 4,
    "hideHardwareSpecs": false,
    "memoryGiB": 384,
    "name": "ml.g5.24xlarge",
    "vcpuNum": 96
   },
   {
    "_defaultOrder": 54,
    "_isFastLaunch": false,
    "category": "Accelerated computing",
    "gpuNum": 8,
    "hideHardwareSpecs": false,
    "memoryGiB": 768,
    "name": "ml.g5.48xlarge",
    "vcpuNum": 192
   }
  ],
  "instance_type": "ml.t3.medium",
  "kernelspec": {
   "display_name": "Python 3 (TensorFlow 2.6 Python 3.8 CPU Optimized)",
   "language": "python",
   "name": "python3__SAGEMAKER_INTERNAL__arn:aws:sagemaker:eu-west-1:470317259841:image/tensorflow-2.6-cpu-py38-ubuntu20.04-v1"
  },
  "language_info": {
   "codemirror_mode": {
    "name": "ipython",
    "version": 3
   },
   "file_extension": ".py",
   "mimetype": "text/x-python",
   "name": "python",
   "nbconvert_exporter": "python",
   "pygments_lexer": "ipython3",
   "version": "3.8.2"
  },
  "lcc_arn": "arn:aws:sagemaker:eu-west-1:833724363691:studio-lifecycle-config/packages"
 },
 "nbformat": 4,
 "nbformat_minor": 5
}
